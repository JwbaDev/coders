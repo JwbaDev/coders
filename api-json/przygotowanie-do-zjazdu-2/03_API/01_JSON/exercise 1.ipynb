{
 "cells": [
  {
   "cell_type": "markdown",
   "metadata": {},
   "source": [
    "# Zadanie 1\n",
    "\n",
    "Obejrzyj zawartość pliku `clients.json`. Twoim zadaniem jest wyświetlenie kilku list:\n",
    "\n",
    "1. Lista imion i nazwisk kobiet\n",
    "2. Lista imion i nazwisk mężczyzn\n",
    "3. Lista aktywnych klientów\n",
    "4. Lista klientów z tagiem `adipisicing`\n",
    "5. Lista klientów o zielonych oczach\n",
    "6. Lista klientów z polskim numerem telefonu\n",
    "\n",
    "## Podpowiedź:\n",
    "\n",
    "**Ad 1.** \n",
    "Najpierw stwórz zmienną, w której będziesz trzymać imiona kobiet. Na początku lista ta powinna być pusta.\n",
    "\n",
    "Następnie wczytaj plik `clients.json` i zamień go na zdeserializuj go do postaci słownika. Zauważ, że słownik ten trzyma w sobie tylko jeden element - listę słowników reprezentujących osoby. Lista ta znajduje się pod kluczem `clients`.\n",
    "\n",
    "Kiedy masz już listę klientów - przeiteruj po niej za pomocą pętli `for`. W środku pętli sprawdź za pomocą `if` czy dana osoba jest mężczyzną, czy kobietą (informacja ta kryje się pod kluczem `gender`). Jeżeli tak to dodaj jej imię do listy (informacja ta kryje się pod kluczem `name`).\n",
    "\n",
    "Kolejne podpunkty będą analogiczne do pierwszego.\n",
    "\n",
    "**Ad 4.**\n",
    "Użyj słowa kluczowego `in` do sprawdzenia, czy element znajduje się w liście.\n",
    "\n",
    "**Ad 6.**\n",
    "Możesz użyć wyrażenia regularnego do sprawdzenia numeru. Przykładowe wyrażenie regularne, któ©e powinno sprawdzić, czy dany numer jest telefonem polskim, wygląda następująco: `\\+48[0-9 ]{9,12}`. Wyrażenie to:\n",
    "1. Sprawdza, czy numer zaczyna się od +48 (pamiętaj, że znak `+` oznacza \"jedno lub więcej powtórzenie\", jeżeli chcesz szukać dosłownie znaku dodaj to musisz użyć `\\+`),\n",
    "2. Następnie sprawdza, czy po kierunkowym do Polski występuje od 9 do 12 znaków z podanego przez nas zakresu: spacji i cyfr od 0 do 9. Różna liczba znaków (od 9 do 12) wynika z faktu różnorodnego zapisu numeru: czasem ze spacjami, czasem bez."
   ]
  },
  {
   "cell_type": "code",
   "execution_count": 2,
   "metadata": {},
   "outputs": [
    {
     "name": "stdout",
     "output_type": "stream",
     "text": [
      "Lista imion i nazwisk kobiet:\n",
      "['Alexandra Garrison', 'Jane Nash', 'Edwina Whitley']\n"
     ]
    }
   ],
   "source": [
    "print(\"Lista imion i nazwisk kobiet:\")\n",
    "\n",
    "# Tu napisz rozwiązanie\n",
    "\n",
    "# oczekiwany wynik: Alexandra Garrison, Jane Nash, Edwina Whitley\n",
    "\n",
    "import json\n",
    "\n",
    "# odczytanie pliku\n",
    "# zamiana tresci pliku na slownik\n",
    "with open('clients.json') as plik:\n",
    "    data = json.loads(plik.read())\n",
    "\n",
    "# wypisz wszystkich klientow\n",
    "klienci = data['clients']\n",
    "# print(klienci)\n",
    "\n",
    "# utworz liste kobiet\n",
    "kobiety = []\n",
    "\n",
    "for klient in klienci:\n",
    "    if klient['gender'] == 'female':\n",
    "        kobiety.append(klient['name'])\n",
    "\n",
    "print(kobiety)"
   ]
  },
  {
   "cell_type": "code",
   "execution_count": 5,
   "metadata": {},
   "outputs": [
    {
     "name": "stdout",
     "output_type": "stream",
     "text": [
      "Lista imion i nazwisk mężczyzn:\n",
      "['Bennett Walter', 'Burris Rodriquez']\n"
     ]
    }
   ],
   "source": [
    "print(\"Lista imion i nazwisk mężczyzn:\")\n",
    "\n",
    "# Tu napisz rozwiązanie\n",
    "\n",
    "# oczekiwany wynik: Bennett Walter, Burris Rodriquez\n",
    "\n",
    "import json\n",
    "\n",
    "# odczytanie pliku\n",
    "# zamiana tresci pliku na slownik\n",
    "with open('clients.json') as plik:\n",
    "    data = json.loads(plik.read())\n",
    "\n",
    "# wypisz wszystkich klientow\n",
    "klienci = data['clients']\n",
    "# print(klienci)\n",
    "\n",
    "# utworz liste mezczyzn\n",
    "mezczyzni = []\n",
    "\n",
    "for klient in klienci:\n",
    "    if klient['gender'] == 'male':\n",
    "        mezczyzni.append(klient['name'])\n",
    "\n",
    "print(mezczyzni)"
   ]
  },
  {
   "cell_type": "code",
   "execution_count": 26,
   "metadata": {},
   "outputs": [
    {
     "name": "stdout",
     "output_type": "stream",
     "text": [
      "Lista aktywnych klientów:\n",
      "['Burris Rodriquez']\n"
     ]
    }
   ],
   "source": [
    "print(\"Lista aktywnych klientów:\")\n",
    "\n",
    "# Tu napisz rozwiązanie\n",
    "\n",
    "# oczekiwany wynik: Burris Rodriquez\n",
    "\n",
    "import json\n",
    "\n",
    "# odczytanie pliku\n",
    "# zamiana tresci pliku na slownik\n",
    "with open('clients.json') as plik:\n",
    "    data = json.loads(plik.read())\n",
    "\n",
    "# wypisz wszystkich klientow\n",
    "klienci = data['clients']\n",
    "# print(klienci)\n",
    "\n",
    "# utworz liste aktywnych\n",
    "aktywni = []\n",
    "\n",
    "for klient in klienci:\n",
    "    if klient['isActive'] is True:\n",
    "        aktywni.append(klient['name'])\n",
    "\n",
    "print(aktywni)"
   ]
  },
  {
   "cell_type": "code",
   "execution_count": 27,
   "metadata": {},
   "outputs": [
    {
     "name": "stdout",
     "output_type": "stream",
     "text": [
      "Lista klientów z tagiem `adipisicing`:\n",
      "['Bennett Walter', 'Alexandra Garrison', 'Burris Rodriquez']\n"
     ]
    }
   ],
   "source": [
    "print(\"Lista klientów z tagiem `adipisicing`:\")\n",
    "\n",
    "# Tu napisz rozwiązanie\n",
    "\n",
    "# oczekiwany wynik: Bennett Walter, Alexandra Garrison, Burris Rodriquez\n",
    "\n",
    "import json\n",
    "\n",
    "# odczytanie pliku\n",
    "# zamiana tresci pliku na slownik\n",
    "with open('clients.json') as plik:\n",
    "    data = json.loads(plik.read())\n",
    "\n",
    "# wypisz wszystkich klientow\n",
    "klienci = data['clients']\n",
    "# print(klienci)\n",
    "\n",
    "# utworz liste aktywnych\n",
    "z_tagiem = []\n",
    "\n",
    "for klient in klienci:\n",
    "    if 'adipisicing' in klient['tags']:\n",
    "        z_tagiem.append(klient['name'])\n",
    "\n",
    "print(z_tagiem)"
   ]
  },
  {
   "cell_type": "code",
   "execution_count": 28,
   "metadata": {},
   "outputs": [
    {
     "name": "stdout",
     "output_type": "stream",
     "text": [
      "Lista klientów o zielonych oczach:\n",
      "['Alexandra Garrison', 'Jane Nash', 'Burris Rodriquez']\n"
     ]
    }
   ],
   "source": [
    "print(\"Lista klientów o zielonych oczach:\")\n",
    "\n",
    "# Tu napisz rozwiązanie\n",
    "\n",
    "# oczekiwany wynik: Alexandra Garrison, Jane Nash, Burris Rodriquez\n",
    "\n",
    "import json\n",
    "\n",
    "# odczytanie pliku\n",
    "# zamiana tresci pliku na slownik\n",
    "with open('clients.json') as plik:\n",
    "    data = json.loads(plik.read())\n",
    "\n",
    "# wypisz wszystkich klientow\n",
    "klienci = data['clients']\n",
    "# print(klienci)\n",
    "\n",
    "# utworz liste aktywnych\n",
    "zielone_oczy = []\n",
    "\n",
    "for klient in klienci:\n",
    "    if klient['eyeColor'] == 'green':\n",
    "        zielone_oczy.append(klient['name'])\n",
    "\n",
    "print(zielone_oczy)"
   ]
  },
  {
   "cell_type": "code",
   "execution_count": 32,
   "metadata": {},
   "outputs": [
    {
     "name": "stdout",
     "output_type": "stream",
     "text": [
      "Lista klientów z polskim numerem telefonu:\n",
      "['Bennett Walter']\n"
     ]
    }
   ],
   "source": [
    "print(\"Lista klientów z polskim numerem telefonu:\")\n",
    "\n",
    "# Tu napisz rozwiązanie\n",
    "\n",
    "# oczekiwany wynik: Bennett Walter\n",
    "\n",
    "import json\n",
    "import re\n",
    "\n",
    "# odczytanie pliku\n",
    "# zamiana tresci pliku na slownik\n",
    "with open('clients.json') as plik:\n",
    "    data = json.loads(plik.read())\n",
    "\n",
    "# wypisz wszystkich klientow\n",
    "klienci = data['clients']\n",
    "# print(klienci)\n",
    "\n",
    "# utworz liste aktywnych\n",
    "pl_nr = []\n",
    "\n",
    "for klient in klienci:\n",
    "    # if klient['phone'].startswith('+48'):\n",
    "    if re.match(r\"\\+48[0-9 ]{9,12}\", klient['phone']):\n",
    "        pl_nr.append(klient['name'])\n",
    "\n",
    "print(pl_nr)"
   ]
  },
  {
   "cell_type": "code",
   "execution_count": null,
   "outputs": [],
   "source": [],
   "metadata": {
    "collapsed": false
   }
  }
 ],
 "metadata": {
  "kernelspec": {
   "display_name": "Python 3",
   "language": "python",
   "name": "python3"
  },
  "language_info": {
   "codemirror_mode": {
    "name": "ipython",
    "version": 3
   },
   "file_extension": ".py",
   "mimetype": "text/x-python",
   "name": "python",
   "nbconvert_exporter": "python",
   "pygments_lexer": "ipython3",
   "version": "3.9.1"
  }
 },
 "nbformat": 4,
 "nbformat_minor": 4
}
