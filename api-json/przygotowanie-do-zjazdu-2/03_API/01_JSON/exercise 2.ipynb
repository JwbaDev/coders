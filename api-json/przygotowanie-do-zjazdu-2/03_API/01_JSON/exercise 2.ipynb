{
 "cells": [
  {
   "cell_type": "markdown",
   "metadata": {},
   "source": [
    "# Zadanie 2\n",
    "\n",
    "Otwórz plik `todo.json` i zapoznaj się z jego kształtem i treścią. Następnie w trzech osobnych komórkach Jupytera napisz:\n",
    "\n",
    "**1.** Kod, który wyświetli treść pliku za pomocą funkcji `print`, w formie:\n",
    "```\n",
    "<IMIĘ PODANE PRZEZ UŻYTKOWNIKA>, twoje bojowe zadanie na dziś to <ZADANIE #1>\n",
    "<IMIĘ PODANE PRZEZ UŻYTKOWNIKA>, twoje bojowe zadanie na dziś to <ZADANIE #2>\n",
    "...\n",
    "```\n",
    "\n",
    "Dla podanego przykładu będzie to:\n",
    "```\n",
    "Jan, twoje bojowe zadanie na dziś to kupić chleb\n",
    "Jan, twoje bojowe zadanie na dziś to kupić masło\n",
    "```\n",
    "\n",
    "**2.** Kod, który zapyta użytkownika o imię (za pomocą funkcji `input`), a następnie utworzy plik `todo.json` o treści:\n",
    "```json\n",
    "{\n",
    "  \"owner\": \"<IMIĘ PODANE PRZEZ UŻYTKOWNIKA>\",\n",
    "  \"tasks\": []\n",
    "}\n",
    "```\n",
    "Jeśli plik już istnieje, powinien zostać nadpisany.\n",
    "\n",
    "**3.** Kod, który zapyta o treść nowego zadania (ponownie funkcja `input`), wczyta obecną zawartość pliku, a następnie dopisze je jako string do listy `\"tasks\"` w pliku. Uruchamiając tą komórkę Jupytera kilka razy zapiszesz kilka zadań na liście:\n",
    "```json\n",
    "{\n",
    "  \"owner\": \"Jan\",\n",
    "  \"tasks\": [\"kupić chleb\", \"kupić masło\", \"kupić mleko\", \"dolać oleju do Hondy\"]\n",
    "}\n",
    "```\n",
    "\n",
    "Jeśli plik już istnieje, powinien zostać nadpisany.\n",
    "\n",
    "**Komórki Jupytera możesz uruchamiać w dowolnej kolejności**\n"
   ]
  },
  {
   "cell_type": "code",
   "execution_count": 7,
   "metadata": {},
   "outputs": [
    {
     "name": "stdout",
     "output_type": "stream",
     "text": [
      "Jan, twoje bojowe zadanie na dziś to kupić chleb\n",
      "Jan, twoje bojowe zadanie na dziś to kupić masło\n"
     ]
    }
   ],
   "source": [
    "# Tu przeczytaj plik i wyświetl jego treść\n",
    "\n",
    "import json\n",
    "\n",
    "with open('todo.json', encoding='UTF-8') as plik:\n",
    "    dane = json.loads(plik.read())\n",
    "\n",
    "# print(dane)\n",
    "\n",
    "for zadanie in dane['tasks']:\n",
    "    print(f'{dane[\"owner\"]}, twoje bojowe zadanie na dziś to {zadanie}')\n"
   ]
  },
  {
   "cell_type": "code",
   "execution_count": null,
   "metadata": {},
   "outputs": [],
   "source": [
    "# Tu zapytaj o imię i utwórz plik `todo.json` o odpowiedniej treści\n",
    "\n",
    "# imie = input(\"hej, podaj mi swoje imie: \")\n",
    "#\n",
    "# wyjsciowy_slownik = {\n",
    "#     \"owner\": imie,\n",
    "#     \"tasks\": []\n",
    "# }\n",
    "#\n",
    "# print(wyjsciowy_slownik)\n",
    "#\n",
    "# with open(\"todo.json\", mode=\"w\") as plik:\n",
    "#     wyjsciowy_json = json.dumps(wyjsciowy_slownik)\n",
    "#     plik.write(wyjsciowy_json)"
   ]
  },
  {
   "cell_type": "code",
   "execution_count": null,
   "metadata": {},
   "outputs": [],
   "source": [
    "# Tu zapytaj o treść nowego zadania i dodaj je do listy w pliku\n",
    "\n",
    "with open('todo.json', encoding='UTF-8') as plik:\n",
    "    dane = json.loads(plik.read())\n",
    "\n",
    "print(dane)\n",
    "zadanie = input(\"Podaj tresc zadania: \")\n",
    "\n",
    "dane['tasks'].append(zadanie)\n",
    "\n",
    "print(dane)"
   ]
  }
 ],
 "metadata": {
  "kernelspec": {
   "display_name": "Python 3",
   "language": "python",
   "name": "python3"
  },
  "language_info": {
   "codemirror_mode": {
    "name": "ipython",
    "version": 3
   },
   "file_extension": ".py",
   "mimetype": "text/x-python",
   "name": "python",
   "nbconvert_exporter": "python",
   "pygments_lexer": "ipython3",
   "version": "3.9.1"
  }
 },
 "nbformat": 4,
 "nbformat_minor": 4
}
