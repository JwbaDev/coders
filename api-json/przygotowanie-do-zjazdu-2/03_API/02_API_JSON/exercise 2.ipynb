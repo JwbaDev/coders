{
 "cells": [
  {
   "cell_type": "markdown",
   "metadata": {},
   "source": [
    "# Zadanie 2\n",
    "\n",
    "Za pomocą funkcji `input(...)` zapytaj użytkownika, jaki kurs waluty go interesuje.\n",
    "\n",
    "Za pomocą biblioteki `requests` pobierz aktualny kurs waluty zwracany przez API pod adresem [http://api.nbp.pl/api/exchangerates/rates/a/chf/](http://api.nbp.pl/api/exchangerates/rates/a/PODANA_WALUTA/), i wyświetl w postaci:\n",
    "\n",
    "```\n",
    "SYMBOL (pełna nazwa): ??? PLN\n",
    "```"
   ]
  },
  {
   "cell_type": "code",
   "execution_count": 1,
   "outputs": [
    {
     "name": "stdout",
     "output_type": "stream",
     "text": [
      "https://api.nbp.pl/api/exchangerates/rates/a/CHF/\n",
      "CHF (frank szwajcarski): 4.7564 PLN\n"
     ]
    }
   ],
   "source": [
    "import json\n",
    "import requests\n",
    "\n",
    "waluta = input(\"podaj kod waluty: \")\n",
    "\n",
    "url = f'https://api.nbp.pl/api/exchangerates/rates/a/{waluta}/'\n",
    "\n",
    "print(url)\n",
    "\n",
    "odpowiedz = requests.get(url)\n",
    "\n",
    "waluta = odpowiedz.json()\n",
    "print(f\"{waluta['code']} ({waluta['currency']}): {waluta['rates'][0]['mid']} PLN\")"
   ],
   "metadata": {
    "collapsed": false
   }
  },
  {
   "cell_type": "code",
   "execution_count": null,
   "outputs": [],
   "source": [],
   "metadata": {
    "collapsed": false
   }
  }
 ],
 "metadata": {
  "kernelspec": {
   "display_name": "Python 3",
   "language": "python",
   "name": "python3"
  },
  "language_info": {
   "codemirror_mode": {
    "name": "ipython",
    "version": 3
   },
   "file_extension": ".py",
   "mimetype": "text/x-python",
   "name": "python",
   "nbconvert_exporter": "python",
   "pygments_lexer": "ipython3",
   "version": "3.8.10"
  }
 },
 "nbformat": 4,
 "nbformat_minor": 4
}
