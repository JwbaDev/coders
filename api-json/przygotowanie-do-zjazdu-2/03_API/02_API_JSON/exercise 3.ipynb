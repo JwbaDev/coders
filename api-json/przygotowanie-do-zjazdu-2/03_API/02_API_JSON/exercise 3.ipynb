{
 "cells": [
  {
   "cell_type": "markdown",
   "metadata": {},
   "source": [
    "# Zadanie 3\n",
    "\n",
    "Zapoznaj się z dokumentacją API [https://www.boredapi.com/documentation](boredapi.com). Jest to API, które sugeruje losowo wybraną aktywność, którą możesz się zająć aby zabić nudę. Znajdź w niej informację o tym, jak filtrować zwracane aktywności na podstawie ilości uczestników.\n",
    "\n",
    "Za pomocą funkcji `input(...)` zapytaj użytkownia o to, z iloma znajomymi chce się spotkać.\n",
    "\n",
    "Za pomocą biblioteki `requests` wykonaj zapytanie do API (pamiętaj o filtrze `participants`), i wyświetl sugerowaną aktywność.\n",
    "\n",
    "Pamiętaj, że podając w zapytaniu liczbę osób, oprócz liczby znajomych trzeba uwzględnić także samego użytkownika skryptu!"
   ]
  },
  {
   "cell_type": "code",
   "execution_count": 2,
   "outputs": [
    {
     "name": "stdout",
     "output_type": "stream",
     "text": [
      "{'activity': 'Go to a concert with local artists with some friends', 'type': 'social', 'participants': 3, 'price': 0.4, 'link': '', 'key': '2211716', 'accessibility': 0.3}\n"
     ]
    }
   ],
   "source": [
    "import requests\n",
    "\n",
    "goscie = input(\"Ile osob przyjdzie w gosciach: \")\n",
    "osoby_na_imprezie = int(goscie) + 1\n",
    "\n",
    "parametry = {\n",
    "    'participants': osoby_na_imprezie\n",
    "}\n",
    "\n",
    "odpowiedz = requests.get('http://www.boredapi.com/api/activity/', params=parametry)\n",
    "\n",
    "print(odpowiedz.json())"
   ],
   "metadata": {
    "collapsed": false
   }
  },
  {
   "cell_type": "code",
   "execution_count": null,
   "outputs": [],
   "source": [],
   "metadata": {
    "collapsed": false
   }
  }
 ],
 "metadata": {
  "kernelspec": {
   "display_name": "Python 3",
   "language": "python",
   "name": "python3"
  },
  "language_info": {
   "codemirror_mode": {
    "name": "ipython",
    "version": 3
   },
   "file_extension": ".py",
   "mimetype": "text/x-python",
   "name": "python",
   "nbconvert_exporter": "python",
   "pygments_lexer": "ipython3",
   "version": "3.8.10"
  }
 },
 "nbformat": 4,
 "nbformat_minor": 4
}
