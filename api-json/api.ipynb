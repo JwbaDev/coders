{
 "cells": [
  {
   "cell_type": "markdown",
   "source": [
    "#### JSON - JavaScript Object Notation\n",
    "\n",
    "JSON jest to lekki format wymiany danych komputerowych. Znaczy to tyle, że obiekt z danymi stworzony w jednym systemie może być łatwo odczytany na innym.\n",
    "Dla nas znaczy to, że jakiś zdalny serwer, do którego będziemy się łączyć, dostarczy nam danych w formacie JSON."
   ],
   "metadata": {
    "collapsed": false
   }
  },
  {
   "cell_type": "code",
   "execution_count": 1,
   "outputs": [
    {
     "name": "stdout",
     "output_type": "stream",
     "text": [
      "{\"author\": \"Adam Mickiewicz\", \"title\": \"Pan Tadeusz\", \"is_ok\": true}\n"
     ]
    }
   ],
   "source": [
    "import json\n",
    "\n",
    "# Aby przerobić pythonowy słownik na JSONa, należy użyć funkcji dumps:\n",
    "s = {\n",
    "    \"author\": \"Adam Mickiewicz\",\n",
    "    \"title\": \"Pan Tadeusz\",\n",
    "    \"is_ok\": True\n",
    "}\n",
    "\n",
    "j = json.dumps(s)\n",
    "print(j)\n"
   ],
   "metadata": {
    "collapsed": false
   }
  },
  {
   "cell_type": "code",
   "execution_count": 2,
   "outputs": [
    {
     "name": "stdout",
     "output_type": "stream",
     "text": [
      "{'author': 'Adam Mickiewicz', 'title': 'Pan Tadeusz', 'is_ok': True}\n"
     ]
    }
   ],
   "source": [
    "import json\n",
    "\n",
    "# Aby przerobić JSON na słownik, wystarczy użyć funkcji loads:\n",
    "j = '{\"author\": \"Adam Mickiewicz\", \"title\": \"Pan Tadeusz\", \"is_ok\": true}'\n",
    "s = json.loads(j)\n",
    "print(s)\n"
   ],
   "metadata": {
    "collapsed": false
   }
  },
  {
   "cell_type": "markdown",
   "source": [
    "#### XML\n",
    "XML jest formatem danych o identycznych celach jak poznany wcześniej JSON, jednak jego wewnętrzna struktura jest bardziej pracochłonna w tworzeniu. Jest to główny powód, dla którego XML jest używany coraz mniej, jednak jest używany i dlatego dobrze jest go poznać."
   ],
   "metadata": {
    "collapsed": false
   }
  },
  {
   "cell_type": "markdown",
   "source": [
    " W powyższym przykładzie jest opisana wersja XML oraz kodowanie znaków, nie ma natomiast żadnych danych. Aby dodać jakieś dane, musimy to zrobić używając tzw. tagów (znaczników) xml. Pomiędzy tagami znajduje się wartość. Tag możemy traktować jak klucz w JSON:\n",
    "\n"
   ],
   "metadata": {
    "collapsed": false
   }
  },
  {
   "cell_type": "code",
   "execution_count": 3,
   "outputs": [],
   "source": [
    "# <klucz>wartość</klucz>\n"
   ],
   "metadata": {
    "collapsed": false
   }
  },
  {
   "cell_type": "code",
   "execution_count": null,
   "outputs": [],
   "source": [
    "# json:\n",
    "{\n",
    "    \"firstname\": \"John\",\n",
    "    \"lastname\": \"Smith\",\n",
    "    \"age\": 18,\n",
    "    \"status\": true\n",
    "}\n"
   ],
   "metadata": {
    "collapsed": false
   }
  },
  {
   "cell_type": "code",
   "execution_count": 4,
   "outputs": [
    {
     "ename": "SyntaxError",
     "evalue": "invalid syntax (529952219.py, line 2)",
     "output_type": "error",
     "traceback": [
      "\u001B[0;36m  Cell \u001B[0;32mIn [4], line 2\u001B[0;36m\u001B[0m\n\u001B[0;31m    <?xml version=\"1.0\" encoding=\"UTF-8\"?>\u001B[0m\n\u001B[0m    ^\u001B[0m\n\u001B[0;31mSyntaxError\u001B[0m\u001B[0;31m:\u001B[0m invalid syntax\n"
     ]
    }
   ],
   "source": [
    "# xml:\n",
    "<?xml version=\"1.0\" encoding=\"UTF-8\"?>\n",
    "<firstname>John</firstname>\n",
    "<lastname>Smith</lastname>\n",
    "<age>18</age>\n",
    "<status>true</status>\n"
   ],
   "metadata": {
    "collapsed": false
   }
  },
  {
   "cell_type": "code",
   "execution_count": 7,
   "outputs": [
    {
     "name": "stdout",
     "output_type": "stream",
     "text": [
      "Niepoprawny klucz, lub po prostu jeszcze nie aktywny - aktywacja zajmuje od 10 minut do 2 godzin!\n"
     ]
    }
   ],
   "source": [
    "## pogoda w Londynie - prework\n",
    "\n",
    "import requests\n",
    "\n",
    "# Popraw tutaj!\n",
    "APIKEY = '16837810f507626649996075b6767088'\n",
    "\n",
    "response = requests.get(f'https://api.openweathermap.org/data/2.5/weather?q=London&appid={APIKEY}')\n",
    "\n",
    "if response.status_code == 401:\n",
    "    print('Niepoprawny klucz, lub po prostu jeszcze nie aktywny - aktywacja zajmuje od 10 minut do 2 godzin!')\n",
    "elif response.status_code == 200:\n",
    "    print('Pogoda w Londynie:', response.json()['weather'][0]['main'])\n",
    "else:\n",
    "    print('Na taki kod odpowiedzi nie jesteśmy gotowi!')\n"
   ],
   "metadata": {
    "collapsed": false
   }
  },
  {
   "cell_type": "code",
   "execution_count": null,
   "outputs": [],
   "source": [],
   "metadata": {
    "collapsed": false
   }
  }
 ],
 "metadata": {
  "kernelspec": {
   "display_name": "Python 3",
   "language": "python",
   "name": "python3"
  },
  "language_info": {
   "codemirror_mode": {
    "name": "ipython",
    "version": 2
   },
   "file_extension": ".py",
   "mimetype": "text/x-python",
   "name": "python",
   "nbconvert_exporter": "python",
   "pygments_lexer": "ipython2",
   "version": "2.7.6"
  }
 },
 "nbformat": 4,
 "nbformat_minor": 0
}
