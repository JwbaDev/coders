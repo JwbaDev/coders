{
 "cells": [
  {
   "cell_type": "markdown",
   "metadata": {},
   "source": [
    "# Warsztat\n",
    "\n",
    "Celem warsztatu jest napisanie skryptu, który przeanalizuje piosenki podanego wykonawcy pod kątem pogody w miejscach, o których wspomina ich tekst. Mając jedynie nazwę zespołu, musimy zdobyć teksty wszystkich jego piosenek, następnie poszukać w nich nazw miejsc, a na końcu sprawdzić jaka panuje tam obecnie pogoda.\n",
    "\n",
    "## Potrzebne klucze\n",
    "\n",
    "Warto zorganizować sobie miejsce na wszystkie klucze, jakie będą potrzebne do współpracy z API. Początek pliku wydaje się na nie odpowiednim miejscem:"
   ]
  },
  {
   "cell_type": "code",
   "execution_count": null,
   "metadata": {},
   "outputs": [],
   "source": [
    "THEAUDIODB_KEY = '2'\n",
    "GEOCODEXYZ_KEY = ''  # UZUPEŁNIJ!\n",
    "OPENWEATHERMAPORG_KEY = ''  # UZUPEŁNIJ!"
   ]
  },
  {
   "cell_type": "markdown",
   "metadata": {},
   "source": [
    "### Uwaga\n",
    "Ponieważ serwis `AudioDB` doświadczał dość dużego obciążenia związanego z używaniem _publicznego_ klucza, wprowadzone zostały następujące ograniczenia:\n",
    "- Publiczne API Key zostało zmienione z 1 na 2,\n",
    "- Zapytanie możemy wykonać tylko **raz na dwie sekundy**\n",
    "\n",
    "Więcej o tym problemie można zleźć w dokumentacji API: [klik](https://www.theaudiodb.com/api_guide.php)"
   ]
  },
  {
   "cell_type": "markdown",
   "metadata": {},
   "source": [
    "\n",
    "## Pobranie listy piosenek\n",
    "\n",
    "Listę piosenek możemy pobrać z [https://www.theaudiodb.com/](https://www.theaudiodb.com/), pod warunkiem że znamy ID płyt, na jakich te się znajdują. ID płyt poznamy natomiast dopiero, gdy będziemy znali ID artysty.\n",
    "\n",
    "Trzeba zatem zacząć od wyszukania artysty po nazwie. Otwórz link i obejrzyj, jak wygląda odpowiedź: [https://www.theaudiodb.com/api/v1/json/2/search.php?s=coldplay](https://www.theaudiodb.com/api/v1/json/1/search.php?s=coldplay)\n",
    "\n",
    "Jest to endpoint przeznaczony do wyszukiwania, więc należy spodziewać się **listy** pasujących zespołów - nawet gdy nazwa została podana idealnie, i został znaleziony tylko jeden.\n",
    "\n",
    "Napiszmy funkcję, która przyjmuje nazwę zespołu, i zwraca słownik z kluczami `id` oraz `name` - lub `None`, gdy zespołu nie udało się znaleźć.\n",
    "\n",
    "**Warto używać funkcji `print`, aby zorientować się, co skrypt robi w danej chwili.**"
   ]
  },
  {
   "cell_type": "code",
   "execution_count": null,
   "metadata": {},
   "outputs": [],
   "source": [
    "import requests\n",
    "from time import sleep"
   ]
  },
  {
   "cell_type": "code",
   "execution_count": null,
   "metadata": {},
   "outputs": [],
   "source": [
    "def get_band(name):\n",
    "    print('Pobieram dane o zespole...')\n",
    "    band_details_response = requests.get(f'https://www.theaudiodb.com/api/v1/json/{THEAUDIODB_KEY}/search.php', {'s': name})\n",
    "    band_details = band_details_response.json()\n",
    "\n",
    "    sleep(2)  # wymagane przez dokumentację API: https://www.theaudiodb.com/api_guide.php\n",
    "\n",
    "    if band_details['artists']:\n",
    "        return {'id': band_details['artists'][0]['idArtist'], 'name': band_details['artists'][0]['strArtist']}\n",
    "    else:\n",
    "        return None"
   ]
  },
  {
   "cell_type": "markdown",
   "metadata": {},
   "source": [
    "Powyższa funkcja zapewni nam ID artysty, którego użyjemy do pobrania listy jego albumów.\n",
    "\n",
    "Mając ID artysty możemy założyć, że pobranie listy albumów się uda - pobieramy ją przecież z tego samego API. Napiszmy funkcję, która przyjmie ID artysty, a zwróci listę ID albumów - tylko one są nam potrzebne, aby finalnie pobrać nazwy piosenek artysty."
   ]
  },
  {
   "cell_type": "code",
   "execution_count": null,
   "metadata": {},
   "outputs": [],
   "source": [
    "def get_album_ids(band_id):\n",
    "    print('Pobieram albumy...')\n",
    "    albums_response = requests.get(f'https://theaudiodb.com/api/v1/json/{THEAUDIODB_KEY}/album.php', {'i': band_id})\n",
    "    albums = albums_response.json()\n",
    "\n",
    "    sleep(2)  # wymagane przez dokumentację API: https://www.theaudiodb.com/api_guide.php\n",
    "\n",
    "    return [album['idAlbum'] for album in albums['album']]"
   ]
  },
  {
   "cell_type": "markdown",
   "metadata": {},
   "source": [
    "Powyższa funkcja zwróci listę kilku-kilkudziesięciu identyfikatorów albumów. Napiszmy teraz funkcję, która potrafi pobrać piosenki z **jednego** albumu - później użyjemy jej w pętli, aby odpytać API o wszystkie albumy po kolei.\n",
    "\n",
    "Tym razem interesują nas tylko nazwy piosenek - tego będzie od nas oczekiwać kolejne API."
   ]
  },
  {
   "cell_type": "code",
   "execution_count": null,
   "metadata": {},
   "outputs": [],
   "source": [
    "def get_tracks(album_id):\n",
    "    print(f'Pobieram ścieżki z albumu {album_id}...')\n",
    "    tracks_response = requests.get(f'https://theaudiodb.com/api/v1/json/{THEAUDIODB_KEY}/track.php', {'m': album_id})\n",
    "    tracks = tracks_response.json()\n",
    "\n",
    "    sleep(2)  # wymagane przez dokumentację API: https://www.theaudiodb.com/api_guide.php\n",
    "\n",
    "    return [track['strTrack'] for track in tracks['track']]"
   ]
  },
  {
   "cell_type": "markdown",
   "metadata": {},
   "source": [
    "## Pobranie tekstów piosenek\n",
    "\n",
    "Po kilku próbach użycia API [https://api.lyrics.ovh/](https://api.lyrics.ovh/) zapewne zauważysz, że nie jest ono idealne. Wszystko działa dobrze, gdy tekst piosenki znajduje się w jego bazie danych. Problem zaczyna się, gdy tekstu tam nie ma - w takiej sytuacji API bardzo długo nie zamyka połączenia, i trzyma swojego klienta w niepewności...\n",
    "\n",
    "Na szczęście biblioteka `requests` pozwala określić maksymalny czas, jaki jesteśmy skłonni poczekać na odpowiedź z serwera. [Z dokumentacji](https://requests.readthedocs.io/en/master/user/quickstart/#timeouts) dowiemy się, że funkcje biblioteki przyjmują argument `timeout` (w sekundach) - gdy taki czas minie, funkcja rzuci wyjątek zamiast zwracać odpowiedź.\n",
    "\n",
    "Drugi problem to to, że nazwy zespołów i piosenek są przekazywane do API w adresie, ale nie w querystringu. Co jeśli zespół ma w swojej nazwie `?`? API na pewno źle zinterpretuje takie zapytanie. Rozwiązaniem jest zastąpienie wszystkich \"niebezpiecznych\" znaków ich kodami w formie `%xx` - tym zajmie się funkcja `quote` z modułu `urllib.parse`.\n",
    "\n",
    "Gotowa funkcja zwraca tekst piosenki, lub `None` gdy nie udało się go znaleźć."
   ]
  },
  {
   "cell_type": "code",
   "execution_count": null,
   "metadata": {},
   "outputs": [],
   "source": [
    "from urllib.parse import quote\n",
    "\n",
    "def get_lyrics(band, title):\n",
    "    try:\n",
    "        response = requests.get(f'https://api.lyrics.ovh/v1/{quote(band)}/{quote(title)}', timeout=15)\n",
    "        sleep(2)  # wymagane przez dokumentację API: https://www.theaudiodb.com/api_guide.php\n",
    "\n",
    "        return response.json()['lyrics']\n",
    "    except Exception:\n",
    "        print(f'Brak tekstu dla {band} - {title}')\n",
    "        return None"
   ]
  },
  {
   "cell_type": "markdown",
   "metadata": {},
   "source": [
    "## Pobranie miejsc z tekstu\n",
    "\n",
    "Do pobrania nazw miast, wiosek, stanów i państw posłuży nam kolejne API: [https://geocode.xyz](https://geocode.xyz).\n",
    "\n",
    "Wypróbuj to API, podając tekst, w którym są:\n",
    "- dwa lub więcej miejsc (`\"Warszawa i Kraków\"`)\n",
    "- jedno miejsce (`\"Warszawa\"`)\n",
    "- brak miejsc (`\"Nic\"`)\n",
    "\n",
    "Rozsądnie byłoby, gdyby zawsze była zwracana lista znalezionych miejsc - nawet jeśli miałaby być pusta.\n",
    "\n",
    "Tak niestety nie jest! \n",
    "- Jeśli żadne miejsce nie zostanie znalezione, klucz `\"match\"` w ogóle nie pojawi się w odpowiedzi.\n",
    "- Jeśli zostało znalezione tylko jedno miejsce, klucz `\"match\"` nie będzie zawierał listy - zamiast tego znajdzie się w nim od razu słownik z jedynym znalezionym miejscem.\n",
    "- Jeśli zostało znalezionych więcej miejsc, klucz `\"match\"` będzie zawierał listę.\n",
    "\n",
    "Zatem API zwraca wyniki na 3 różne sposoby - aby nasza funkcja była bardziej spójna, rozpoznamy każdą z tych trzech sytuacji i obsłużymy odpowiednio."
   ]
  },
  {
   "cell_type": "code",
   "execution_count": null,
   "metadata": {},
   "outputs": [],
   "source": [
    "def get_places(text):\n",
    "    response = requests.post('https://geocode.xyz', {'scantext': text, 'geoit': 'json', 'sentiment': 'analysis', 'auth': GEOCODEXYZ_KEY})\n",
    "    if response.status_code == 200:\n",
    "        content = response.json()\n",
    "        if 'match' not in content:\n",
    "            print('Brak lokalizacji w tekście')\n",
    "            return []\n",
    "        if type(content['match']) == list:\n",
    "            return [match['location'] for match in content['match']]\n",
    "        else:\n",
    "            return [content['match']['location']]\n",
    "    else:\n",
    "        print('Zapytanie do geocode.xyz wróciło ze statusem', response.status_code)\n",
    "        return []"
   ]
  },
  {
   "cell_type": "markdown",
   "metadata": {},
   "source": [
    "## Pobranie pogody\n",
    "\n",
    "To API jest Ci już znane - zwraca odpowiedź ze statusem `200 OK` i pogodą dla podanego miejsca, lub odpowiedź `404 NOT FOUND` jeśli miejsce nie zostało znalezione.\n",
    "\n",
    "Za pomocą `response.ok` sprawdzimy, z którą z tych sytuacji mamy do czynienia, i odpowiednio zwrócimy wynik."
   ]
  },
  {
   "cell_type": "code",
   "execution_count": null,
   "metadata": {},
   "outputs": [],
   "source": [
    "def get_weather(location):\n",
    "    response = requests.get(f'http://api.openweathermap.org/data/2.5/weather', {'q': location, 'appid': OPENWEATHERMAPORG_KEY})\n",
    "    if response.ok:\n",
    "        return response.json()['weather'][0]['description']\n",
    "    else:\n",
    "        print('Nie znaleziono pogody dla:', location)\n",
    "        return None"
   ]
  },
  {
   "cell_type": "markdown",
   "metadata": {},
   "source": [
    "## Złożenie wszystkiego w całość\n",
    "\n",
    "Nadszedł czas, aby użyć wszystkich funkcji po kolei. Zaczniemy od zapytania użytkownika o nazwę zespołu. Potem użyjemy funkcji `get_band`, aby pobrać nazwę, i przede wszystkim identyfikator artysty.\n",
    "\n",
    "Jeśli operacja się powiedzie, w `band` będziemy mieli słownik z kluczami `\"name\"` i `\"id\"` - jeżeli nie, w `band` będzie `None` i jedyne co nam pozostanie do zrobienia to poinformowanie użytkownika, że jego ulubiony zespół nie został znaleziony.\n",
    "\n",
    "Po pomyślnym pobraniu ID artysty pobierzemy identyfikatory jego wszystkich płyt, a potem w zmiennej `all_tracks` zgromadzimy tytuły wszystkih piosenek, z każdego albumu po kolei.\n",
    "\n",
    "Gdy tytuły piosenek będą już pobrane, odpytamy odpowiednie API funkcją `get_lyrics` o tekst. Jeśli go nie będzie, wrócimy na początek pętli po kolejną piosenkę. Użycie `not` i `continue` powoduje, że kod nie oddala się za bardzo od lewej krawędzi.\n",
    "\n",
    "Następnie pobierzemy miejsca, o których wspomina tekst piosenki - funkcja `get_places` zawsze zwraca listę stringów. Nie ma potrzeby sprawdzać czy lista jest pusta - jeśli jest, to pętla `for` wykona się po prostu zero razy.\n",
    "\n",
    "W środku ww. pętli zapytamy funkcją `get_weather` o pogodę w danym miejscu. Funkcja `get_weather` zwraca albo opis pogody (typu `str`), albo `None` - warto zatem sprawdzić, czy wynik funkcji jest \"truthy\" - aby pominąć miejsca, dla których pogody nie znaleziono.\n",
    "\n",
    "## Uruchamianie\n",
    "\n",
    "Pamiętaj, aby uruchomić wszystkie komórki Jupytera od najwyższej do najniższej - inaczej w pewnym momencie Python stwierdzi, że jakaś funkcja lub zmienna nie istnieje.\n",
    "\n",
    "Po uruchomieniu poniższej komórki skrypt zapyta Cię o nazwę zespołu, a potem zacznie pracę.\n",
    "\n",
    "Fragment wyników dla **Train**:\n",
    "```\n",
    "Brak tekstu dla Train - For Me, It's You\n",
    "Pogoda dla SAN FRANCISCO,US: few clouds (Save Me, San Francisco - Train)\n",
    "Pogoda dla OREGON,US: overcast clouds (Save Me, San Francisco - Train)\n",
    "Pogoda dla SEATTLE,US: mist (Save Me, San Francisco - Train)\n",
    "Pogoda dla GOLDEN,US: broken clouds (Save Me, San Francisco - Train)\n",
    "Pogoda dla MARIN,US: clear sky (Save Me, San Francisco - Train)\n",
    "Nie znaleziono pogody dla: ALCATRAZ,US\n",
    "Pogoda dla HIGHWAY,US: clear sky (Save Me, San Francisco - Train)\n",
    "Pogoda dla FILLMORE,US: clear sky (Save Me, San Francisco - Train)\n",
    "```\n"
   ]
  },
  {
   "cell_type": "code",
   "execution_count": null,
   "metadata": {},
   "outputs": [],
   "source": [
    "name = input('Podaj nazwę zespołu')\n",
    "\n",
    "band = get_band(name)\n",
    "if band:\n",
    "    print('Znaleziono:', band['name'])\n",
    "    \n",
    "    album_ids = get_album_ids(band['id'])\n",
    "    \n",
    "    all_tracks = []\n",
    "    for aid in album_ids:\n",
    "        album_tracks = get_tracks(aid)\n",
    "        all_tracks.extend(album_tracks)\n",
    "    \n",
    "    for track_name in all_tracks:\n",
    "        lyrics = get_lyrics(band['name'], track_name)\n",
    "        if not lyrics:\n",
    "            continue\n",
    "\n",
    "        places = get_places(lyrics)\n",
    "        \n",
    "        for place in places:\n",
    "            weather = get_weather(place)\n",
    "            if weather:\n",
    "                print(f'Pogoda dla {place}: {weather} ({track_name} - {band[\"name\"]})')\n",
    "                \n",
    "else:\n",
    "    print('Nie znaleziono:', name)"
   ]
  }
 ],
 "metadata": {
  "kernelspec": {
   "display_name": "Python 3",
   "language": "python",
   "name": "python3"
  },
  "language_info": {
   "codemirror_mode": {
    "name": "ipython",
    "version": 3
   },
   "file_extension": ".py",
   "mimetype": "text/x-python",
   "name": "python",
   "nbconvert_exporter": "python",
   "pygments_lexer": "ipython3",
   "version": "3.9.1"
  }
 },
 "nbformat": 4,
 "nbformat_minor": 4
}
